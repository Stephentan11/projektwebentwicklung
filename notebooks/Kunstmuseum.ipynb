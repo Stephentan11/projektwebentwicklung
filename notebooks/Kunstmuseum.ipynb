{
 "cells": [
  {
   "cell_type": "markdown",
   "id": "ffd8f84f",
   "metadata": {},
   "source": [
    "Kunstmuseen in Hessen"
   ]
  },
  {
   "cell_type": "markdown",
   "id": "d3517465",
   "metadata": {},
   "source": [
    "SQLite Datenbank zu Kunstmuseen in Hessen implementieren\n",
    "\n",
    "Query: Wikidata:SPARQL query service\n",
    "Ergebnisse befinden sich in: Kunstmuseum.json\n",
    "Output: Kunstmuseen_Hessen.db"
   ]
  },
  {
   "cell_type": "markdown",
   "id": "fd1bfec0",
   "metadata": {},
   "source": [
    "Query:"
   ]
  },
  {
   "cell_type": "markdown",
   "id": "3703d603",
   "metadata": {},
   "source": [
    "SELECT ?item ?name ?description ?image ?url (MIN(?lat) AS ?latitude) (MIN(?lon) AS ?longitude) (GROUP_CONCAT(DISTINCT ?directorLabel; SEPARATOR=\", \") AS ?directors) ?foundingYear\n",
    "WHERE {\n",
    "  hint:Query hint:optimizer \"None\" .\n",
    "  ?item wdt:P131* wd:Q1199 .                     # Hessen\n",
    "  ?item wdt:P31/wdt:P279* wd:Q33506 .           # Museen\n",
    "  ?item wdt:P31/wdt:P279* wd:Q207694 .          # Kunstmuseen\n",
    "  ?item p:P625 ?coordinate .\n",
    "  OPTIONAL { ?item wdt:P18 ?image . }\n",
    "  OPTIONAL { ?item wdt:P856 ?url . }\n",
    "\n",
    "  OPTIONAL {\n",
    "    ?item schema:description ?descDe .\n",
    "    FILTER(LANG(?descDe) = \"de\")\n",
    "  }\n",
    "\n",
    "  OPTIONAL {\n",
    "    ?item schema:description ?descEn .\n",
    "    FILTER(LANG(?descEn) = \"en\")\n",
    "  }\n",
    "\n",
    "  BIND(COALESCE(?descDe, ?descEn) AS ?description)\n",
    "\n",
    "  ?coordinate psv:P625 ?coordinate_node .\n",
    "  ?coordinate_node wikibase:geoLatitude ?lat .\n",
    "  ?coordinate_node wikibase:geoLongitude ?lon .\n",
    "\n",
    "  OPTIONAL {\n",
    "    ?item wdt:P1037 ?directorItem .\n",
    "    ?directorItem rdfs:label ?directorLabel .\n",
    "    FILTER(LANG(?directorLabel) = \"de\")\n",
    "  }\n",
    "\n",
    "  OPTIONAL {\n",
    "    ?item wdt:P571 ?foundingYear .\n",
    "  }\n",
    "\n",
    "\n",
    "  SERVICE wikibase:label {\n",
    "    bd:serviceParam wikibase:language \"[AUTO_LANGUAGE],en\" .\n",
    "    ?item rdfs:label ?name .\n",
    "  }\n",
    "\n",
    "  FILTER(!isBlank(?item) && !isBlank(?name) && !isBlank(?description) && !isBlank(?image) && !isBlank(?url) && !isBlank(?lat) && !isBlank(?lon))\n",
    "}\n",
    "GROUP BY ?item ?name ?description ?image ?url ?foundingYear\n",
    "ORDER BY ASC(?name)"
   ]
  },
  {
   "cell_type": "markdown",
   "id": "4c152553",
   "metadata": {},
   "source": [
    "Libraries für sqlite3 und JSON importieren,\n",
    "Ergebnisse in Datenbank abspeichern:"
   ]
  },
  {
   "cell_type": "code",
   "execution_count": 1,
   "id": "683f14f9",
   "metadata": {
    "ExecuteTime": {
     "end_time": "2023-06-16T16:29:09.802811600Z",
     "start_time": "2023-06-16T16:29:09.726759700Z"
    }
   },
   "outputs": [
    {
     "name": "stdout",
     "output_type": "stream",
     "text": [
      "<sqlite3.Cursor object at 0x000001B86487B6C0>\n",
      "('636924', 'Archäologisches Museum Frankfurt', 'Museum der Archäologie in Hessen', 'http://commons.wikimedia.org/wiki/Special:FilePath/Archaeologisches%20Museum%20Frankfurt%20Neubau.jpg', 'https://www.archaeologisches-museum-frankfurt.de/', 50.1089, 8.67853, 'Egon Wamers', '1937-06-22T00:00:00Z')\n",
      "('1525564', 'Caricatura Museum für Komische Kunst', 'Museum für die Komische Kunst der Neuen Frankfurter Schule und weiterer zeitgenössischer Satiriker und Karikaturisten in Frankfurt am Main', 'http://commons.wikimedia.org/wiki/Special:FilePath/Eingang%20Caricatura%20Leinwandhaus.jpg', 'http://www.caricatura-museum.de/', 50.1102, 8.68511, '', None)\n",
      "('885179', 'Deutsches Architekturmuseum', 'Museum in Frankfurt am Main', 'http://commons.wikimedia.org/wiki/Special:FilePath/Deutsches%20Architekturmuseum%2C%20Frankfurt.jpg', 'https://www.dam-online.de/', 50.104975, 8.6773143, 'Peter Cachola Schmal', None)\n",
      "('1205606', 'Deutsches Elfenbeinmuseum', 'Museum in Erbach im Odenwald', 'http://commons.wikimedia.org/wiki/Special:FilePath/Elfenbeinmuseum%20Erbach%20aussen.jpg', 'http://www.elfenbeinmuseum.de', 49.663002777778, 9.00075, '', '1966-01-01T00:00:00Z')\n",
      "('1205629', 'Deutsches Filmmuseum', 'Filmmuseum in Frankfurt am Main', 'http://commons.wikimedia.org/wiki/Special:FilePath/Das-Deutsche-Filmmuseum.jpg', 'http://www.deutsches-filminstitut.de/filmmuseum', 50.105, 8.67778, '', None)\n",
      "('1205934', 'Deutsches Rundfunkarchiv', 'Archiv der auditiven und audiovisuellen Überlieferung in Deutschland', 'http://commons.wikimedia.org/wiki/Special:FilePath/Deutsches%20Rundfunkarchiv%20in%20Potsdam%202007.jpg', 'https://www.dra.de/', 52.389672, 13.119806, '', None)\n",
      "('1444994', 'Frankfurter Kunstverein', 'Ausstellungshaus für Gegenwartskunst mit mehr als 1000 Mitgliedern', 'http://commons.wikimedia.org/wiki/Special:FilePath/Frankfurter%20Kunstverein%202018.jpg', 'https://www.fkv.de/', 50.1107, 8.6828, '', '1829-01-01T00:00:00Z')\n",
      "('1501219', 'Gemäldegalerie Alte Meister', 'eine zur Museumslandschaft Hessen Kassel zugehörige Sammlung im Schloss Wilhelmshöhe', 'http://commons.wikimedia.org/wiki/Special:FilePath/Schloss%20Wilhelmsh%C3%B6he%20001.jpg', 'https://museum-kassel.de/', 51.315, 9.41611, '', None)\n",
      "('17493645', 'Kunsthalle Darmstadt', 'Ausstellungsgebäude im südhessischen Darmstadt', 'http://commons.wikimedia.org/wiki/Special:FilePath/Kunsthalle%20Darmstadt.jpg', 'http://www.kunsthalle-darmstadt.de', 49.87195, 8.64185, '', None)\n",
      "('1823966', 'Liebieghaus', 'Skulpturenmuseum in Frankfurt am Main', 'http://commons.wikimedia.org/wiki/Special:FilePath/Liebieghaus%20Galeriefl%C3%BCgel%20Haupteingang.jpg', 'http://www.liebieghaus.de', 50.1019, 8.67167, 'Philipp Demandt', '1909-01-01T00:00:00Z')\n",
      "('1270251', 'Marburger Kunstverein', 'Verein in Marburg, Träger der Marburger Kunsthalle', 'http://commons.wikimedia.org/wiki/Special:FilePath/Marburger%20Kunstverein%20BoogyBoogy%202008.jpg', 'http://marburger-kunstverein.de/', 50.808738, 8.773141, '', '1953-01-01T00:00:00Z')\n",
      "('198418', 'Museum Angewandte Kunst', 'Museum für Kunsthandwerk, Design, Mode, Buchkunst, Grafik und Architektur, von Lebensstilen und Performativem in Frankfurt am Main', 'http://commons.wikimedia.org/wiki/Special:FilePath/Frankfurt%20Museum%20Angewandte%20Kunst%202011.jpg', 'http://www.museumangewandtekunst.de/', 50.1064, 8.68139, '', '1985-01-01T00:00:00Z')\n",
      "('1954440', 'Museum Giersch der Goethe-Universität', 'Kunsthalle am Museumsufer in Frankfurt am Main', 'http://commons.wikimedia.org/wiki/Special:FilePath/Museum-giersch-ffm001.jpg', 'http://www.museum-giersch.de', 50.1015, 8.6706, '', '2000-01-01T00:00:00Z')\n",
      "('316514', 'Museum Wiesbaden', 'Hessisches Landesmuseum für die Sparten Kunst und Natur', 'http://commons.wikimedia.org/wiki/Special:FilePath/Museum%20Wiesbaden%202019.jpg', 'https://museum-wiesbaden.de/', 50.0775, 8.245833, 'Hermann Voss, Andreas Henning, Volker Rattemeyer, Eberhard Schenk zu Schweinsberg, Clemens Weiler, Arnulf Herbst, Ulrich Schmidt, Alexander Klar', '1825-01-01T00:00:00Z')\n",
      "('1954640', 'Museum für Kommunikation Frankfurt', 'Museum in Deutschland', 'http://commons.wikimedia.org/wiki/Special:FilePath/Museum-fuer-kommunikation-ffm006.jpg', 'https://www.mfk-frankfurt.de/', 50.1044, 8.67528, '', '1955-01-01T00:00:00Z')\n",
      "('456994', 'Museum für Moderne Kunst', 'Museum für zeitgenössische Kunst in Frankfurt am Main', 'http://commons.wikimedia.org/wiki/Special:FilePath/Museum%20fuer%20Moderne%20Kunst%20Portalseite.jpg', 'https://www.mmk.art/en/', 50.1121, 8.685, 'Susanne Gaensheimer', '1981-01-01T00:00:00Z')\n",
      "('1774413', 'Nassauischer Kunstverein', 'Museum in Deutschland', 'http://commons.wikimedia.org/wiki/Special:FilePath/NKV%20Haus2.jpg', 'http://www.kunstverein-wiesbaden.de/', 50.0797601, 8.2454258, '', '1847-01-01T00:00:00Z')\n",
      "('869781', 'Neue Galerie', 'Kunstmuseum in Kassel', 'http://commons.wikimedia.org/wiki/Special:FilePath/Kassel%20asv2022-02%20img17%20Neue%20Galerie.jpg', 'http://www.museum-kassel.de/index_navi.php?parent=1058', 51.3093, 9.49324, 'Martin Eberle', None)\n",
      "('176293', 'Schirn Kunsthalle Frankfurt', 'Kunst- und Ausstellungshalle', 'http://commons.wikimedia.org/wiki/Special:FilePath/Schirn1.jpg', 'https://www.schirn.de/', 50.110278, 8.683611, '', '1986-01-01T00:00:00Z')\n",
      "('163804', 'Städel', 'Kunstmuseum in Frankfurt am Main', 'http://commons.wikimedia.org/wiki/Special:FilePath/Staedel-Frankfurt-2013-Ffm-862-867.jpg', 'https://www.staedelmuseum.de/', 50.1032, 8.673028, 'Philipp Demandt', '1816-01-01T00:00:00Z')\n"
     ]
    }
   ],
   "source": [
    "import sqlite3\n",
    "import json\n",
    "\n",
    "filename = \"Kunstmuseen_Hessen.db\"\n",
    "db = sqlite3.connect(filename, detect_types=sqlite3.PARSE_DECLTYPES | sqlite3.PARSE_COLNAMES)\n",
    "\n",
    "c = db.cursor()\n",
    "\n",
    "# Create table 'Kunstmuseum'\n",
    "c.execute('DROP TABLE IF EXISTS Kunstmuseum')\n",
    "c.execute('''\n",
    "          CREATE TABLE Kunstmuseum (\n",
    "              Item varchar PRIMARY KEY,\n",
    "              name varchar,\n",
    "              description varchar,\n",
    "              image varchar,\n",
    "              article varchar,\n",
    "              latitude REAL,\n",
    "              longitude REAL,\n",
    "              directors varchar,\n",
    "              foundingYear REAL\n",
    "         )\n",
    "''')\n",
    "\n",
    "\n",
    "\n",
    "print(c)\n",
    "\n",
    "with open('Kunstmuseum.json', 'r', encoding=\"utf-8\") as f:\n",
    "    json_content = f.read()\n",
    "    data = json.loads(json_content)\n",
    "    \n",
    "\n",
    "    results = data['results']['bindings']  # Access the 'bindings' key within 'results' to get the data entries\n",
    "\n",
    "    for entry in results:\n",
    "        t = (\n",
    "            entry['item']['value'][32:],\n",
    "            entry['name']['value'],\n",
    "            entry['description']['value'],\n",
    "            entry.get('image', {}).get('value'),\n",
    "            entry.get('article', {}).get('value'),\n",
    "            entry.get('latitude', {}).get('value'),\n",
    "            entry.get('longitude', {}).get('value'),\n",
    "            entry.get('directors', {}).get('value'),\n",
    "            entry.get('foundingYear', {}).get('value')\n",
    "        )\n",
    "        # Delete the existing row with the same item value\n",
    "        c.execute('DELETE FROM Kunstmuseum WHERE item = ?', (t[0],))\n",
    "\n",
    "        # Insert the new row\n",
    "        c.execute('INSERT INTO Kunstmuseum (item, name, description, image, article,latitude, longitude, directors, foundingYear) VALUES (?, ?, ?, ?, ?, ?, ?, ?, ?)', t)\n",
    "\n",
    "        db.commit()\n",
    "\n",
    "results = c.execute('SELECT * FROM Kunstmuseum')\n",
    "for row in results:\n",
    "    print(row)\n",
    "\n",
    "c.close()\n",
    "\n",
    "\n",
    "\n"
   ]
  },
  {
   "cell_type": "code",
   "execution_count": null,
   "id": "6d5eb744",
   "metadata": {},
   "outputs": [],
   "source": []
  }
 ],
 "metadata": {
  "kernelspec": {
   "display_name": "Python 3 (ipykernel)",
   "language": "python",
   "name": "python3"
  },
  "language_info": {
   "codemirror_mode": {
    "name": "ipython",
    "version": 3
   },
   "file_extension": ".py",
   "mimetype": "text/x-python",
   "name": "python",
   "nbconvert_exporter": "python",
   "pygments_lexer": "ipython3",
   "version": "3.9.12"
  }
 },
 "nbformat": 4,
 "nbformat_minor": 5
}
